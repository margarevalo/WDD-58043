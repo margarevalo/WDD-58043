{
  "nbformat": 4,
  "nbformat_minor": 0,
  "metadata": {
    "colab": {
      "name": "Exercise1.ipynb",
      "provenance": [],
      "authorship_tag": "ABX9TyMLiYIDSQvm+k/Fk1WuMiAO",
      "include_colab_link": true
    },
    "kernelspec": {
      "name": "python3",
      "display_name": "Python 3"
    },
    "language_info": {
      "name": "python"
    }
  },
  "cells": [
    {
      "cell_type": "markdown",
      "metadata": {
        "id": "view-in-github",
        "colab_type": "text"
      },
      "source": [
        "<a href=\"https://colab.research.google.com/github/margarevalo/WDD-58043/blob/main1/Exercise1.ipynb\" target=\"_parent\"><img src=\"https://colab.research.google.com/assets/colab-badge.svg\" alt=\"Open In Colab\"/></a>"
      ]
    },
    {
      "cell_type": "code",
      "execution_count": 18,
      "metadata": {
        "colab": {
          "base_uri": "https://localhost:8080/"
        },
        "id": "kXysaO67mWKB",
        "outputId": "ea4a9a91-b750-409b-bd0a-434ee39c9910"
      },
      "outputs": [
        {
          "output_type": "stream",
          "name": "stdout",
          "text": [
            "Enter the radius of the circle here: 2\n",
            "The area of the circle is  12.56636\n"
          ]
        }
      ],
      "source": [
        "pi = 3.14159\n",
        "r = float(input(\"Enter the radius of the circle here: \"))\n",
        "area = pi*r*r\n",
        "print(\"The area of the circle is \" , area)"
      ]
    }
  ]
}